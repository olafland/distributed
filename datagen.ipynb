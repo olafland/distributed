{
 "cells": [
  {
   "cell_type": "code",
   "execution_count": 54,
   "id": "4577d656-9629-4d78-a302-59ae444ca09b",
   "metadata": {},
   "outputs": [
    {
     "name": "stdout",
     "output_type": "stream",
     "text": [
      "[[0.99573987 0.69762188 0.48087123 0.60618523 0.74167554]\n",
      " [0.43753399 0.90785415 0.60229339 0.8187805  0.8791958 ]\n",
      " [0.74491676 0.5688165  0.21039556 0.97917144 0.0445037 ]\n",
      " ...\n",
      " [0.8860165  0.68291477 0.8321408  0.39689626 0.8291024 ]\n",
      " [0.58063383 0.8998279  0.27078815 0.64661522 0.00385573]\n",
      " [0.10251952 0.94930385 0.40706273 0.82637332 0.12241743]]\n",
      "[[0.88021615 0.10643578 0.51495286 0.99374429 0.44929739]\n",
      " [0.7786871  0.51357875 0.1348097  0.14493085 0.82964932]\n",
      " [0.78455215 0.12719098 0.14902295 0.59890773 0.53158193]\n",
      " ...\n",
      " [0.079832   0.7187326  0.43348176 0.95343745 0.1545103 ]\n",
      " [0.18151399 0.69391536 0.44414765 0.76183479 0.17723941]\n",
      " [0.42445515 0.77262296 0.24891463 0.21800541 0.38955884]]\n"
     ]
    }
   ],
   "source": [
    "import numpy as np\n",
    "     \n",
    "train_x = np.random.rand(10000,5)    \n",
    "test_x = np.random.rand(10000,5)    \n",
    "\n",
    "print(train_x)\n",
    "print(test_x)"
   ]
  },
  {
   "cell_type": "code",
   "execution_count": 55,
   "id": "ec7de7ae-07d4-4898-96c6-8f01aaa34058",
   "metadata": {},
   "outputs": [],
   "source": [
    "def prepare(data):\n",
    "    avg = np.average(data, axis = 1)\n",
    "    ret = np.append(data, np.reshape(avg, (-1, 1)), axis=1 )\n",
    "    return ret\n"
   ]
  },
  {
   "cell_type": "code",
   "execution_count": 56,
   "id": "7a04ad2d-2b0a-4005-88f2-671ac25102c5",
   "metadata": {},
   "outputs": [
    {
     "name": "stdout",
     "output_type": "stream",
     "text": [
      "[[0.99573987 0.69762188 0.48087123 0.60618523 0.74167554 0.70441875]\n",
      " [0.43753399 0.90785415 0.60229339 0.8187805  0.8791958  0.72913156]\n",
      " [0.74491676 0.5688165  0.21039556 0.97917144 0.0445037  0.50956079]\n",
      " ...\n",
      " [0.8860165  0.68291477 0.8321408  0.39689626 0.8291024  0.72541415]\n",
      " [0.58063383 0.8998279  0.27078815 0.64661522 0.00385573 0.48034416]\n",
      " [0.10251952 0.94930385 0.40706273 0.82637332 0.12241743 0.48153537]]\n",
      "[[0.88021615 0.10643578 0.51495286 0.99374429 0.44929739 0.5889293 ]\n",
      " [0.7786871  0.51357875 0.1348097  0.14493085 0.82964932 0.48033114]\n",
      " [0.78455215 0.12719098 0.14902295 0.59890773 0.53158193 0.43825115]\n",
      " ...\n",
      " [0.079832   0.7187326  0.43348176 0.95343745 0.1545103  0.46799882]\n",
      " [0.18151399 0.69391536 0.44414765 0.76183479 0.17723941 0.45173024]\n",
      " [0.42445515 0.77262296 0.24891463 0.21800541 0.38955884 0.4107114 ]]\n"
     ]
    }
   ],
   "source": [
    "train = prepare(train_x)\n",
    "test = prepare(test_x)\n",
    "\n",
    "print(train)\n",
    "print(test)"
   ]
  },
  {
   "cell_type": "code",
   "execution_count": 57,
   "id": "44bd2e2b-fafb-4c52-865b-1af0e0ec49fa",
   "metadata": {},
   "outputs": [],
   "source": [
    "np.savetxt('train.csv', train, delimiter=',', header=\"1, 2, 3, 4, 5, avg\", comments=\"\")\n",
    "np.savetxt('test.csv', test, delimiter=',', header=\"1, 2, 3, 4, 5, avg\", comments=\"\")"
   ]
  },
  {
   "cell_type": "code",
   "execution_count": null,
   "id": "e0e94211-05d4-4ed6-aaf4-46bf8a90d87e",
   "metadata": {},
   "outputs": [],
   "source": []
  }
 ],
 "metadata": {
  "kernelspec": {
   "display_name": "venv-pytorch",
   "language": "python",
   "name": "venv-pytorch"
  },
  "language_info": {
   "codemirror_mode": {
    "name": "ipython",
    "version": 3
   },
   "file_extension": ".py",
   "mimetype": "text/x-python",
   "name": "python",
   "nbconvert_exporter": "python",
   "pygments_lexer": "ipython3",
   "version": "3.8.10"
  }
 },
 "nbformat": 4,
 "nbformat_minor": 5
}
