{
 "cells": [
  {
   "cell_type": "code",
   "execution_count": 1,
   "id": "5ee41f34-a535-4fd7-a241-edf23a4adec5",
   "metadata": {},
   "outputs": [],
   "source": [
    "import os\n",
    "import torch\n",
    "from torch import nn\n",
    "from torch.utils.data import Dataset\n",
    "from torch.utils.data import DataLoader\n",
    "\n",
    "import pandas as pd\n",
    "#from torchvision import datasets, transforms"
   ]
  },
  {
   "cell_type": "code",
   "execution_count": 2,
   "id": "92b2dc47-d63c-4592-b321-b829eaa4d9cf",
   "metadata": {},
   "outputs": [],
   "source": [
    "#learning_rate = 1e-3\n",
    "learning_rate = 0.2\n",
    "\n",
    "batch_size = 1\n",
    "epochs = 5"
   ]
  },
  {
   "cell_type": "code",
   "execution_count": 3,
   "id": "555f7a2f-1373-422c-abea-ca8e37a54667",
   "metadata": {},
   "outputs": [
    {
     "name": "stdout",
     "output_type": "stream",
     "text": [
      "Using cpu device\n"
     ]
    }
   ],
   "source": [
    "#device = 'cuda' if torch.cuda.is_available() else 'cpu'\n",
    "device = 'cpu'\n",
    "print(f'Using {device} device')"
   ]
  },
  {
   "cell_type": "code",
   "execution_count": 4,
   "id": "2f4ef817-783e-4a49-a8b7-e6e758158407",
   "metadata": {},
   "outputs": [],
   "source": [
    "class MyData(Dataset):\n",
    "    def __init__(self, file_name, device):\n",
    "        'Initialization'\n",
    "        d = pd.read_csv(file_name)\n",
    "        x = d.iloc[0:,0:5].values\n",
    "        y = d.iloc[0:,5].values\n",
    "\n",
    "        self.x = torch.tensor(x, dtype=torch.float32).to(device)\n",
    "        self.y = torch.tensor(y, dtype=torch.float32).to(device)\n",
    "        \n",
    "    def __len__(self):\n",
    "        'Denotes the total number of samples'\n",
    "        #return len(self.list_IDs)\n",
    "        return len(self.y)\n",
    "\n",
    "    def __getitem__(self, index):\n",
    "        'Generates one sample of data'\n",
    "        return self.x[index], self.y[index]"
   ]
  },
  {
   "cell_type": "code",
   "execution_count": 5,
   "id": "94441e96-799d-4c0d-a2fa-88b01c29bfdf",
   "metadata": {},
   "outputs": [],
   "source": [
    "training_data = MyData('train.csv', device)\n",
    "test_data = MyData('test.csv', device)\n",
    "\n",
    "train_dataloader = DataLoader(training_data, batch_size, shuffle=True)\n",
    "test_dataloader = DataLoader(test_data, batch_size, shuffle=True)"
   ]
  },
  {
   "cell_type": "code",
   "execution_count": 11,
   "id": "2d2f7cf9-c30e-42d7-86df-cd9b672387ce",
   "metadata": {},
   "outputs": [],
   "source": [
    "class NeuralNetwork(nn.Module):\n",
    "    def __init__(self):\n",
    "        super(NeuralNetwork, self).__init__()\n",
    "        self.linear_relu_stack = nn.Sequential(\n",
    "            nn.Linear(5, 1),\n",
    "#            nn.ReLU(),\n",
    "            #nn.Linear(10, 1),\n",
    "        )\n",
    "\n",
    "    def forward(self, x):\n",
    "        x = self.linear_relu_stack(x)\n",
    "        return x"
   ]
  },
  {
   "cell_type": "code",
   "execution_count": 12,
   "id": "191ef465-71de-4618-ba91-2f7fbe73a915",
   "metadata": {},
   "outputs": [
    {
     "name": "stdout",
     "output_type": "stream",
     "text": [
      "NeuralNetwork(\n",
      "  (linear_relu_stack): Sequential(\n",
      "    (0): Linear(in_features=5, out_features=1, bias=True)\n",
      "  )\n",
      ")\n"
     ]
    }
   ],
   "source": [
    "#model = NeuralNetwork()\n",
    "model = NeuralNetwork().to(device)\n",
    "print(model)"
   ]
  },
  {
   "cell_type": "code",
   "execution_count": 8,
   "id": "448e8f6c-ccc1-4f7d-98f5-f1d1fbd279ce",
   "metadata": {},
   "outputs": [],
   "source": [
    "def train_loop(dataloader, model, loss_fn, optimizer):\n",
    "    size = len(dataloader.dataset)\n",
    "    for batch, (X, y) in enumerate(dataloader):\n",
    "        # Compute prediction and loss\n",
    "        pred = model(X)\n",
    "        loss = loss_fn(pred, y)\n",
    "\n",
    "        # Backpropagation\n",
    "        optimizer.zero_grad()\n",
    "        loss.backward()\n",
    "        optimizer.step()\n",
    "\n",
    "        if batch % 1000 == 0:\n",
    "            loss, current = loss.item(), batch * len(X)\n",
    "            print(f\"loss: {loss:>7f}  [{current:>5d}/{size:>5d}]\")\n",
    "\n"
   ]
  },
  {
   "cell_type": "code",
   "execution_count": 9,
   "id": "9b5c3033-f12b-41d8-bb47-4689202ef442",
   "metadata": {},
   "outputs": [],
   "source": [
    "def test_loop(dataloader, model, loss_fn):\n",
    "    size = len(dataloader.dataset)\n",
    "    num_batches = len(dataloader)\n",
    "    test_loss = 0\n",
    "\n",
    "    with torch.no_grad():\n",
    "        for X, y in dataloader:\n",
    "            pred = model(X)\n",
    "            test_loss += loss_fn(pred, y).item()\n",
    "\n",
    "    test_loss /= num_batches\n",
    "    print(f\"Test Error: \\n Avg loss: {test_loss:>8f} \\n\")"
   ]
  },
  {
   "cell_type": "code",
   "execution_count": 13,
   "id": "79fcf2db-53eb-4581-9de8-d4c7947b41b6",
   "metadata": {},
   "outputs": [
    {
     "name": "stdout",
     "output_type": "stream",
     "text": [
      "Epoch 1\n",
      "-------------------------------\n",
      "loss: 0.000691  [    0/10000]\n",
      "loss: 0.000000  [ 1000/10000]\n",
      "loss: 0.000000  [ 2000/10000]\n",
      "loss: 0.000000  [ 3000/10000]\n",
      "loss: 0.000000  [ 4000/10000]\n",
      "loss: 0.000000  [ 5000/10000]\n",
      "loss: 0.000000  [ 6000/10000]\n",
      "loss: 0.000000  [ 7000/10000]\n",
      "loss: 0.000000  [ 8000/10000]\n",
      "loss: 0.000000  [ 9000/10000]\n",
      "Test Error: \n",
      " Avg loss: 0.000000 \n",
      "\n",
      "Epoch 2\n",
      "-------------------------------\n",
      "loss: 0.000000  [    0/10000]\n",
      "loss: 0.000000  [ 1000/10000]\n",
      "loss: 0.000000  [ 2000/10000]\n",
      "loss: 0.000000  [ 3000/10000]\n",
      "loss: 0.000000  [ 4000/10000]\n",
      "loss: 0.000000  [ 5000/10000]\n",
      "loss: 0.000000  [ 6000/10000]\n",
      "loss: 0.000000  [ 7000/10000]\n",
      "loss: 0.000000  [ 8000/10000]\n",
      "loss: 0.000000  [ 9000/10000]\n",
      "Test Error: \n",
      " Avg loss: 0.000000 \n",
      "\n",
      "Epoch 3\n",
      "-------------------------------\n",
      "loss: 0.000000  [    0/10000]\n",
      "loss: 0.000000  [ 1000/10000]\n",
      "loss: 0.000000  [ 2000/10000]\n",
      "loss: 0.000000  [ 3000/10000]\n",
      "loss: 0.000000  [ 4000/10000]\n",
      "loss: 0.000000  [ 5000/10000]\n",
      "loss: 0.000000  [ 6000/10000]\n",
      "loss: 0.000000  [ 7000/10000]\n",
      "loss: 0.000000  [ 8000/10000]\n",
      "loss: 0.000000  [ 9000/10000]\n",
      "Test Error: \n",
      " Avg loss: 0.000000 \n",
      "\n",
      "Epoch 4\n",
      "-------------------------------\n",
      "loss: 0.000000  [    0/10000]\n",
      "loss: 0.000000  [ 1000/10000]\n",
      "loss: 0.000000  [ 2000/10000]\n",
      "loss: 0.000000  [ 3000/10000]\n",
      "loss: 0.000000  [ 4000/10000]\n",
      "loss: 0.000000  [ 5000/10000]\n",
      "loss: 0.000000  [ 6000/10000]\n",
      "loss: 0.000000  [ 7000/10000]\n",
      "loss: 0.000000  [ 8000/10000]\n",
      "loss: 0.000000  [ 9000/10000]\n",
      "Test Error: \n",
      " Avg loss: 0.000000 \n",
      "\n",
      "Epoch 5\n",
      "-------------------------------\n",
      "loss: 0.000000  [    0/10000]\n",
      "loss: 0.000000  [ 1000/10000]\n",
      "loss: 0.000000  [ 2000/10000]\n",
      "loss: 0.000000  [ 3000/10000]\n",
      "loss: 0.000000  [ 4000/10000]\n",
      "loss: 0.000000  [ 5000/10000]\n",
      "loss: 0.000000  [ 6000/10000]\n",
      "loss: 0.000000  [ 7000/10000]\n",
      "loss: 0.000000  [ 8000/10000]\n",
      "loss: 0.000000  [ 9000/10000]\n",
      "Test Error: \n",
      " Avg loss: 0.000000 \n",
      "\n",
      "Epoch 6\n",
      "-------------------------------\n",
      "loss: 0.000000  [    0/10000]\n",
      "loss: 0.000000  [ 1000/10000]\n",
      "loss: 0.000000  [ 2000/10000]\n",
      "loss: 0.000000  [ 3000/10000]\n",
      "loss: 0.000000  [ 4000/10000]\n",
      "loss: 0.000000  [ 5000/10000]\n",
      "loss: 0.000000  [ 6000/10000]\n",
      "loss: 0.000000  [ 7000/10000]\n",
      "loss: 0.000000  [ 8000/10000]\n",
      "loss: 0.000000  [ 9000/10000]\n",
      "Test Error: \n",
      " Avg loss: 0.000000 \n",
      "\n",
      "Epoch 7\n",
      "-------------------------------\n",
      "loss: 0.000000  [    0/10000]\n",
      "loss: 0.000000  [ 1000/10000]\n",
      "loss: 0.000000  [ 2000/10000]\n",
      "loss: 0.000000  [ 3000/10000]\n",
      "loss: 0.000000  [ 4000/10000]\n",
      "loss: 0.000000  [ 5000/10000]\n",
      "loss: 0.000000  [ 6000/10000]\n",
      "loss: 0.000000  [ 7000/10000]\n",
      "loss: 0.000000  [ 8000/10000]\n",
      "loss: 0.000000  [ 9000/10000]\n",
      "Test Error: \n",
      " Avg loss: 0.000000 \n",
      "\n",
      "Epoch 8\n",
      "-------------------------------\n",
      "loss: 0.000000  [    0/10000]\n",
      "loss: 0.000000  [ 1000/10000]\n",
      "loss: 0.000000  [ 2000/10000]\n",
      "loss: 0.000000  [ 3000/10000]\n",
      "loss: 0.000000  [ 4000/10000]\n",
      "loss: 0.000000  [ 5000/10000]\n",
      "loss: 0.000000  [ 6000/10000]\n",
      "loss: 0.000000  [ 7000/10000]\n",
      "loss: 0.000000  [ 8000/10000]\n",
      "loss: 0.000000  [ 9000/10000]\n",
      "Test Error: \n",
      " Avg loss: 0.000000 \n",
      "\n",
      "Epoch 9\n",
      "-------------------------------\n",
      "loss: 0.000000  [    0/10000]\n",
      "loss: 0.000000  [ 1000/10000]\n",
      "loss: 0.000000  [ 2000/10000]\n",
      "loss: 0.000000  [ 3000/10000]\n",
      "loss: 0.000000  [ 4000/10000]\n",
      "loss: 0.000000  [ 5000/10000]\n",
      "loss: 0.000000  [ 6000/10000]\n",
      "loss: 0.000000  [ 7000/10000]\n",
      "loss: 0.000000  [ 8000/10000]\n",
      "loss: 0.000000  [ 9000/10000]\n",
      "Test Error: \n",
      " Avg loss: 0.000000 \n",
      "\n",
      "Epoch 10\n",
      "-------------------------------\n",
      "loss: 0.000000  [    0/10000]\n",
      "loss: 0.000000  [ 1000/10000]\n",
      "loss: 0.000000  [ 2000/10000]\n",
      "loss: 0.000000  [ 3000/10000]\n",
      "loss: 0.000000  [ 4000/10000]\n",
      "loss: 0.000000  [ 5000/10000]\n",
      "loss: 0.000000  [ 6000/10000]\n",
      "loss: 0.000000  [ 7000/10000]\n",
      "loss: 0.000000  [ 8000/10000]\n",
      "loss: 0.000000  [ 9000/10000]\n",
      "Test Error: \n",
      " Avg loss: 0.000000 \n",
      "\n",
      "Done!\n"
     ]
    }
   ],
   "source": [
    "loss_fn = nn.MSELoss()\n",
    "optimizer = torch.optim.SGD(model.parameters(), lr=learning_rate)\n",
    "\n",
    "epochs = 3\n",
    "for t in range(epochs):\n",
    "    print(f\"Epoch {t+1}\\n-------------------------------\")\n",
    "    train_loop(train_dataloader, model, loss_fn, optimizer)\n",
    "    test_loop(test_dataloader, model, loss_fn)\n",
    "print(\"Done!\")"
   ]
  },
  {
   "cell_type": "code",
   "execution_count": null,
   "id": "78eb35a4-bafb-4988-9204-d978d86e7465",
   "metadata": {},
   "outputs": [],
   "source": []
  },
  {
   "cell_type": "code",
   "execution_count": null,
   "id": "9c643a85-83f2-43ac-9720-4d9fe5e58cc2",
   "metadata": {},
   "outputs": [],
   "source": []
  },
  {
   "cell_type": "code",
   "execution_count": 16,
   "id": "5a3c2cae-9f96-48a3-8b69-d9b6c063a310",
   "metadata": {},
   "outputs": [
    {
     "name": "stdout",
     "output_type": "stream",
     "text": [
      "torch.Size([1, 10])\n"
     ]
    }
   ],
   "source": [
    "input_data = torch.rand(1,10)\n",
    "print(input_data.size())"
   ]
  },
  {
   "cell_type": "code",
   "execution_count": 18,
   "id": "43ec7e0b-9a12-40b4-b722-c9c51ce8dbb2",
   "metadata": {},
   "outputs": [
    {
     "name": "stdout",
     "output_type": "stream",
     "text": [
      "Predicted class: tensor([[-0.0120]], device='cuda:0', grad_fn=<AddmmBackward0>)\n"
     ]
    }
   ],
   "source": [
    "X = torch.rand(1, 10, device=device)\n",
    "logits = model(X)\n",
    "#pred_probab = nn.Softmax(dim=1)(logits)\n",
    "#y_pred = pred_probab.argmax(1)\n",
    "print(f\"Predicted class: {logits}\")"
   ]
  },
  {
   "cell_type": "code",
   "execution_count": null,
   "id": "43654aad-1091-41ce-ac79-0b2c9da4e766",
   "metadata": {},
   "outputs": [],
   "source": []
  }
 ],
 "metadata": {
  "kernelspec": {
   "display_name": "venv-pytorch",
   "language": "python",
   "name": "venv-pytorch"
  },
  "language_info": {
   "codemirror_mode": {
    "name": "ipython",
    "version": 3
   },
   "file_extension": ".py",
   "mimetype": "text/x-python",
   "name": "python",
   "nbconvert_exporter": "python",
   "pygments_lexer": "ipython3",
   "version": "3.8.10"
  }
 },
 "nbformat": 4,
 "nbformat_minor": 5
}
